{
 "cells": [
  {
   "cell_type": "code",
   "execution_count": 1,
   "metadata": {},
   "outputs": [],
   "source": [
    "from cd4ml.problems.titanic.download_data.download_data import download\n"
   ]
  },
  {
   "cell_type": "code",
   "execution_count": 2,
   "metadata": {},
   "outputs": [],
   "source": [
    "download()"
   ]
  },
  {
   "cell_type": "code",
   "execution_count": 3,
   "metadata": {},
   "outputs": [],
   "source": [
    "from cd4ml.problems.titanic.readers.stream_data import stream_data \n"
   ]
  },
  {
   "cell_type": "code",
   "execution_count": 4,
   "metadata": {},
   "outputs": [
    {
     "name": "stdout",
     "output_type": "stream",
     "text": [
      "{'Sex': 'male', 'PassengerId': '1', 'Pclass': 3.0, 'Age': 22.0, 'Fare': 7.25, 'SibSp': 1.0, 'Parch': 0.0, 'Survived': 0.0}\n"
     ]
    }
   ],
   "source": [
    "stream =  stream_data('titanic')\n",
    "print(next(stream))"
   ]
  },
  {
   "cell_type": "code",
   "execution_count": 5,
   "metadata": {},
   "outputs": [],
   "source": [
    "from cd4ml.problems import get_problem\n",
    "prob=get_problem('titanic')\n",
    "prob.download_data()\n",
    "stream=prob.stream_processed()\n",
    "next(stream)\n",
    "prob.prepare_feature_data()  "
   ]
  }
 ],
 "metadata": {
  "kernelspec": {
   "display_name": "Python 3",
   "language": "python",
   "name": "python3"
  },
  "language_info": {
   "codemirror_mode": {
    "name": "ipython",
    "version": 3
   },
   "file_extension": ".py",
   "mimetype": "text/x-python",
   "name": "python",
   "nbconvert_exporter": "python",
   "pygments_lexer": "ipython3",
   "version": "3.10.11"
  }
 },
 "nbformat": 4,
 "nbformat_minor": 4
}
